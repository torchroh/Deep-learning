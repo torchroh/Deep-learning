{
  "nbformat": 4,
  "nbformat_minor": 0,
  "metadata": {
    "colab": {
      "provenance": [],
      "toc_visible": true,
      "authorship_tag": "ABX9TyOlO4JKfNessvsukZpTI8RE",
      "include_colab_link": true
    },
    "kernelspec": {
      "name": "python3",
      "display_name": "Python 3"
    },
    "language_info": {
      "name": "python"
    }
  },
  "cells": [
    {
      "cell_type": "markdown",
      "metadata": {
        "id": "view-in-github",
        "colab_type": "text"
      },
      "source": [
        "<a href=\"https://colab.research.google.com/github/torchroh/Deep-learning/blob/main/D2L_2_3_Linear_Algebra.ipynb\" target=\"_parent\"><img src=\"https://colab.research.google.com/assets/colab-badge.svg\" alt=\"Open In Colab\"/></a>"
      ]
    },
    {
      "cell_type": "markdown",
      "source": [
        "# 2.3 Linear Algebra"
      ],
      "metadata": {
        "id": "37uYuvCwzYS0"
      }
    },
    {
      "cell_type": "code",
      "execution_count": 22,
      "metadata": {
        "id": "RgAEkw3bkHZs"
      },
      "outputs": [],
      "source": [
        "import torch"
      ]
    },
    {
      "cell_type": "markdown",
      "source": [
        "# 2.3.1 Scalars"
      ],
      "metadata": {
        "id": "3UqvmDlZyZ9B"
      }
    },
    {
      "cell_type": "markdown",
      "source": [
        "\n",
        "\n",
        "\n",
        "---\n",
        "constant scalars는 실제 숫자들을 나타냄.\n",
        "unknown scalars는 미지수를 나타냄. (보통 소문자로 표시함.)\n",
        "\n",
        "\n",
        "\n"
      ],
      "metadata": {
        "id": "ogddCPy0mATF"
      }
    },
    {
      "cell_type": "code",
      "source": [
        "x = torch.tensor(3.0)\n",
        "y = torch.tensor(2.0)\n",
        "\n",
        "x + y, x * y, x / y, x**y"
      ],
      "metadata": {
        "colab": {
          "base_uri": "https://localhost:8080/"
        },
        "id": "5k-NJuWzmyrp",
        "outputId": "1d731bd3-466d-4877-9817-d65bb34cd122"
      },
      "execution_count": 2,
      "outputs": [
        {
          "output_type": "execute_result",
          "data": {
            "text/plain": [
              "(tensor(5.), tensor(6.), tensor(1.5000), tensor(9.))"
            ]
          },
          "metadata": {},
          "execution_count": 2
        }
      ]
    },
    {
      "cell_type": "markdown",
      "source": [
        "# 2.3.2 Vectors"
      ],
      "metadata": {
        "id": "yYbdziQgylJU"
      }
    },
    {
      "cell_type": "markdown",
      "source": [
        "\n",
        "\n",
        "\n",
        "---\n",
        "vector's element로 scalar를 쓰기도 한다. 벡터를 시각화 할 때는 수직으로 쌓아서 시각화함.\n",
        "\n",
        "indexing 가능, 길이 len(x)\n",
        "\n",
        "vector와 같이 axis가 하나면 shape에 element가 하나 나옴.\n"
      ],
      "metadata": {
        "id": "-z-2CBwimyBh"
      }
    },
    {
      "cell_type": "code",
      "source": [
        "x = torch.arange(3)\n",
        "print(x)\n",
        "print(x[1])\n",
        "print(x[2])\n",
        "print(len(x))\n",
        "print(x.shape)"
      ],
      "metadata": {
        "colab": {
          "base_uri": "https://localhost:8080/"
        },
        "id": "UI6IlSVioCic",
        "outputId": "26d9ff8a-69b5-435f-cbc0-8cd2dfecc489"
      },
      "execution_count": 16,
      "outputs": [
        {
          "output_type": "stream",
          "name": "stdout",
          "text": [
            "tensor([0, 1, 2])\n",
            "tensor(1)\n",
            "tensor(2)\n",
            "3\n",
            "torch.Size([3])\n"
          ]
        }
      ]
    },
    {
      "cell_type": "markdown",
      "source": [
        "# 2.3.3 Matrices"
      ],
      "metadata": {
        "id": "IJGWf3D8ys-J"
      }
    },
    {
      "cell_type": "markdown",
      "source": [
        "\n",
        "\n",
        "\n",
        "---\n",
        "\n",
        "scalar --> 0th-order tensor\n",
        "vector --> 1st-order tensor\n",
        "matix --> 2nd-order tensor\n",
        "\n",
        "A.T는 transpose를 나타냄.\n",
        "\n",
        "matrix A는 m * n, A.T는 n * m"
      ],
      "metadata": {
        "id": "nJZ5OELAqILh"
      }
    },
    {
      "cell_type": "code",
      "source": [
        "A = torch.arange(6).reshape(3,2)\n",
        "A, A.T"
      ],
      "metadata": {
        "colab": {
          "base_uri": "https://localhost:8080/"
        },
        "id": "lNnLKRjMq5Z_",
        "outputId": "3c40eab8-2cd2-46e4-f5f9-2e6aa30f1ec8"
      },
      "execution_count": 26,
      "outputs": [
        {
          "output_type": "execute_result",
          "data": {
            "text/plain": [
              "(tensor([[0, 1],\n",
              "         [2, 3],\n",
              "         [4, 5]]),\n",
              " tensor([[0, 2, 4],\n",
              "         [1, 3, 5]]))"
            ]
          },
          "metadata": {},
          "execution_count": 26
        }
      ]
    },
    {
      "cell_type": "code",
      "source": [
        "A = torch.tensor([[1, 2, 3], [2, 0, 4], [3, 4, 5]])\n",
        "A == A.T"
      ],
      "metadata": {
        "colab": {
          "base_uri": "https://localhost:8080/"
        },
        "id": "FU8O_P_WrRSN",
        "outputId": "ef6112b4-cb3e-4dd6-dd42-447e1110986a"
      },
      "execution_count": 20,
      "outputs": [
        {
          "output_type": "execute_result",
          "data": {
            "text/plain": [
              "tensor([[True, True, True],\n",
              "        [True, True, True],\n",
              "        [True, True, True]])"
            ]
          },
          "metadata": {},
          "execution_count": 20
        }
      ]
    },
    {
      "cell_type": "markdown",
      "source": [
        "# 2.3.4 Tensors"
      ],
      "metadata": {
        "id": "f6WQkwEOyw20"
      }
    },
    {
      "cell_type": "markdown",
      "source": [
        "\n",
        "\n",
        "\n",
        "---\n",
        "\n",
        "scalar, vector, matrix는 각각 0차, 1차, 2차 tensor임.\n",
        "\n",
        "고차 tensor를 작업해야할 수도 있다.\n",
        "\n",
        "tensor는 주로 대문자로 표현됨."
      ],
      "metadata": {
        "id": "f-lzcfBkrIvM"
      }
    },
    {
      "cell_type": "code",
      "source": [
        "torch.arange(24).reshape(2, 3, 4)"
      ],
      "metadata": {
        "colab": {
          "base_uri": "https://localhost:8080/"
        },
        "id": "EYmM-QglriyN",
        "outputId": "4a3d9105-6070-40af-ddda-9ec97d625296"
      },
      "execution_count": 21,
      "outputs": [
        {
          "output_type": "execute_result",
          "data": {
            "text/plain": [
              "tensor([[[ 0,  1,  2,  3],\n",
              "         [ 4,  5,  6,  7],\n",
              "         [ 8,  9, 10, 11]],\n",
              "\n",
              "        [[12, 13, 14, 15],\n",
              "         [16, 17, 18, 19],\n",
              "         [20, 21, 22, 23]]])"
            ]
          },
          "metadata": {},
          "execution_count": 21
        }
      ]
    },
    {
      "cell_type": "markdown",
      "source": [
        "# 2.3.5 Basic Properties of Tensor Arithmetic\n"
      ],
      "metadata": {
        "id": "hPR4V5p7y0xy"
      }
    },
    {
      "cell_type": "markdown",
      "source": [
        "\n",
        "\n",
        "---\n",
        "\n",
        "scalar, vector, matirx, nth-tensor는 요소별로 더하거나 곱할 수 있다.\n"
      ],
      "metadata": {
        "id": "67snsi2zsTHV"
      }
    },
    {
      "cell_type": "code",
      "source": [
        "A = torch.arange(6, dtype=torch.float32).reshape(2,3)\n",
        "B = A.clone()\n",
        "A, A + B, A * B"
      ],
      "metadata": {
        "colab": {
          "base_uri": "https://localhost:8080/"
        },
        "id": "5ls-2YZttWvZ",
        "outputId": "dec38cd6-4f75-472e-85ab-353b6b526521"
      },
      "execution_count": 31,
      "outputs": [
        {
          "output_type": "execute_result",
          "data": {
            "text/plain": [
              "(tensor([[0., 1., 2.],\n",
              "         [3., 4., 5.]]),\n",
              " tensor([[ 0.,  2.,  4.],\n",
              "         [ 6.,  8., 10.]]),\n",
              " tensor([[ 0.,  1.,  4.],\n",
              "         [ 9., 16., 25.]]))"
            ]
          },
          "metadata": {},
          "execution_count": 31
        }
      ]
    },
    {
      "cell_type": "markdown",
      "source": [
        "scalar와 tensor를 더하거나 곱하면, tensor 모양과 같은 결과가 나옴.\n",
        "\n"
      ],
      "metadata": {
        "id": "86i7KQ2PtkwX"
      }
    },
    {
      "cell_type": "code",
      "source": [
        "a = 2\n",
        "X = torch.arange(24).reshape(2, 3, 4)\n",
        "a + X, (a * X).shape"
      ],
      "metadata": {
        "colab": {
          "base_uri": "https://localhost:8080/"
        },
        "id": "PTQQoCo8tvbL",
        "outputId": "799d2a5d-204f-4dcd-8d39-3b8cb187f81e"
      },
      "execution_count": 27,
      "outputs": [
        {
          "output_type": "execute_result",
          "data": {
            "text/plain": [
              "(tensor([[[ 2,  3,  4,  5],\n",
              "          [ 6,  7,  8,  9],\n",
              "          [10, 11, 12, 13]],\n",
              " \n",
              "         [[14, 15, 16, 17],\n",
              "          [18, 19, 20, 21],\n",
              "          [22, 23, 24, 25]]]),\n",
              " torch.Size([2, 3, 4]))"
            ]
          },
          "metadata": {},
          "execution_count": 27
        }
      ]
    },
    {
      "cell_type": "markdown",
      "source": [
        "# 2.3.6 Reduction"
      ],
      "metadata": {
        "id": "RlhjJWNgy4rG"
      }
    },
    {
      "cell_type": "markdown",
      "source": [
        "\n",
        "\n",
        "\n",
        "---\n",
        "\n"
      ],
      "metadata": {
        "id": "MJpmZjZGuZ6M"
      }
    },
    {
      "cell_type": "code",
      "source": [
        "A, A.shape, A.sum()"
      ],
      "metadata": {
        "colab": {
          "base_uri": "https://localhost:8080/"
        },
        "id": "mHVuhDq1wIqG",
        "outputId": "3b6d4243-6290-4e46-df86-992e15ac5a32"
      },
      "execution_count": 35,
      "outputs": [
        {
          "output_type": "execute_result",
          "data": {
            "text/plain": [
              "(tensor([[0., 1., 2.],\n",
              "         [3., 4., 5.]]),\n",
              " torch.Size([2, 3]),\n",
              " tensor(15.))"
            ]
          },
          "metadata": {},
          "execution_count": 35
        }
      ]
    },
    {
      "cell_type": "markdown",
      "source": [
        "sum 함수를 호출하면 모든 axis가 reduce되어 scalar가 생성된다.\n",
        "\n",
        "reduce 되어야할 축을 지정할 수도 있다. 해당 축을 따라 축소되어 출력 벡터를 생성한다.\n",
        "\n",
        "A.sum(axis=[0, 1]) == A.sum()"
      ],
      "metadata": {
        "id": "VS63JwQRw4Y1"
      }
    },
    {
      "cell_type": "code",
      "source": [
        "A.shape, A.sum(axis=0).shape, A.sum(axis=1).shape"
      ],
      "metadata": {
        "colab": {
          "base_uri": "https://localhost:8080/"
        },
        "id": "lPRzfL0lxOIe",
        "outputId": "cbe2e0b4-a29c-4601-c11a-1a900a2e4b1d"
      },
      "execution_count": 36,
      "outputs": [
        {
          "output_type": "execute_result",
          "data": {
            "text/plain": [
              "(torch.Size([2, 3]), torch.Size([3]), torch.Size([2]))"
            ]
          },
          "metadata": {},
          "execution_count": 36
        }
      ]
    },
    {
      "cell_type": "markdown",
      "source": [
        "mean(average)도 행렬 전체를 대상으로 할 수도 있고, 축을 지정하여 표현할 수도 있다."
      ],
      "metadata": {
        "id": "MtpLhCTgx1OL"
      }
    },
    {
      "cell_type": "code",
      "source": [
        "A.mean(), A.sum()/A.numel()"
      ],
      "metadata": {
        "colab": {
          "base_uri": "https://localhost:8080/"
        },
        "id": "R8JNq8VYyCJW",
        "outputId": "21d7d15e-9afe-45cd-c616-8452a1ac7478"
      },
      "execution_count": 37,
      "outputs": [
        {
          "output_type": "execute_result",
          "data": {
            "text/plain": [
              "(tensor(2.5000), tensor(2.5000))"
            ]
          },
          "metadata": {},
          "execution_count": 37
        }
      ]
    }
  ]
}