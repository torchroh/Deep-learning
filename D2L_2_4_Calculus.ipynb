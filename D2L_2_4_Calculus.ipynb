{
  "nbformat": 4,
  "nbformat_minor": 0,
  "metadata": {
    "colab": {
      "provenance": [],
      "toc_visible": true,
      "authorship_tag": "ABX9TyNBhX65mhtykVE9lXGUiNrA",
      "include_colab_link": true
    },
    "kernelspec": {
      "name": "python3",
      "display_name": "Python 3"
    },
    "language_info": {
      "name": "python"
    }
  },
  "cells": [
    {
      "cell_type": "markdown",
      "metadata": {
        "id": "view-in-github",
        "colab_type": "text"
      },
      "source": [
        "<a href=\"https://colab.research.google.com/github/torchroh/Deep-learning/blob/main/D2L_2_4_Calculus.ipynb\" target=\"_parent\"><img src=\"https://colab.research.google.com/assets/colab-badge.svg\" alt=\"Open In Colab\"/></a>"
      ]
    },
    {
      "cell_type": "markdown",
      "source": [
        "# 2.4 Calculus\n",
        "\n",
        "\n",
        "---\n",
        "그래프 그리기~ 미분미분\n"
      ],
      "metadata": {
        "id": "F86ggp6bH9mU"
      }
    },
    {
      "cell_type": "code",
      "execution_count": 1,
      "metadata": {
        "id": "QKmBOiAaGP6d"
      },
      "outputs": [],
      "source": [
        "import numpy as np\n",
        "from matplotlib_inline import backend_inline\n",
        "import torch\n",
        "import matplotlib.pyplot as plt"
      ]
    },
    {
      "cell_type": "markdown",
      "source": [
        "# 2.4.1 Derivatives and Differentiation\n",
        "\n",
        "\n",
        "---\n",
        "h를 0에 수렴하는 값으로 제공해서 기울기를 구하는 형태 --> 미분"
      ],
      "metadata": {
        "id": "Kl299_INSpJY"
      }
    },
    {
      "cell_type": "code",
      "source": [
        "def f(x) :\n",
        "    return 3 * x ** 2 - 4 * x"
      ],
      "metadata": {
        "id": "IPW5rOr9S7u9"
      },
      "execution_count": 2,
      "outputs": []
    },
    {
      "cell_type": "code",
      "source": [
        "for h in 10.0**np.arange(-1, -6, -1):\n",
        "    print(f'h={h:.5f}, numerical limit={(f(1+h)-f(1))/h:.5f}')"
      ],
      "metadata": {
        "id": "_ANcdboVTBt3",
        "outputId": "4a40fde5-1d62-4f8d-d739-07689f943695",
        "colab": {
          "base_uri": "https://localhost:8080/"
        }
      },
      "execution_count": 3,
      "outputs": [
        {
          "output_type": "stream",
          "name": "stdout",
          "text": [
            "h=0.10000, numerical limit=2.30000\n",
            "h=0.01000, numerical limit=2.03000\n",
            "h=0.00100, numerical limit=2.00300\n",
            "h=0.00010, numerical limit=2.00030\n",
            "h=0.00001, numerical limit=2.00003\n"
          ]
        }
      ]
    },
    {
      "cell_type": "markdown",
      "source": [
        "2.4.2 Visualization Utilities\n",
        "\n",
        "\n",
        "---\n",
        "\n"
      ],
      "metadata": {
        "id": "8ByD3jANTSIp"
      }
    },
    {
      "cell_type": "code",
      "source": [],
      "metadata": {
        "id": "r4SWoo6gTQk4"
      },
      "execution_count": null,
      "outputs": []
    }
  ]
}