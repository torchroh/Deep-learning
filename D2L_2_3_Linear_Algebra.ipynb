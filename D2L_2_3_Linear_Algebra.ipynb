{
  "nbformat": 4,
  "nbformat_minor": 0,
  "metadata": {
    "colab": {
      "provenance": [],
      "toc_visible": true,
      "authorship_tag": "ABX9TyPZqDFP/3cqNUb7mDCaEXF3",
      "include_colab_link": true
    },
    "kernelspec": {
      "name": "python3",
      "display_name": "Python 3"
    },
    "language_info": {
      "name": "python"
    }
  },
  "cells": [
    {
      "cell_type": "markdown",
      "metadata": {
        "id": "view-in-github",
        "colab_type": "text"
      },
      "source": [
        "<a href=\"https://colab.research.google.com/github/torchroh/Deep-learning/blob/main/D2L_2_3_Linear_Algebra.ipynb\" target=\"_parent\"><img src=\"https://colab.research.google.com/assets/colab-badge.svg\" alt=\"Open In Colab\"/></a>"
      ]
    },
    {
      "cell_type": "markdown",
      "source": [
        "# 2.3 Linear Algebra"
      ],
      "metadata": {
        "id": "37uYuvCwzYS0"
      }
    },
    {
      "cell_type": "code",
      "execution_count": 1,
      "metadata": {
        "id": "RgAEkw3bkHZs"
      },
      "outputs": [],
      "source": [
        "import torch"
      ]
    },
    {
      "cell_type": "markdown",
      "source": [
        "# 2.3.1 Scalars"
      ],
      "metadata": {
        "id": "3UqvmDlZyZ9B"
      }
    },
    {
      "cell_type": "markdown",
      "source": [
        "\n",
        "\n",
        "\n",
        "---\n",
        "constant scalars는 실제 숫자들을 나타냄.\n",
        "unknown scalars는 미지수를 나타냄. (보통 소문자로 표시함.)\n",
        "\n",
        "\n",
        "\n"
      ],
      "metadata": {
        "id": "ogddCPy0mATF"
      }
    },
    {
      "cell_type": "code",
      "source": [
        "x = torch.tensor(3.0)\n",
        "y = torch.tensor(2.0)\n",
        "\n",
        "x + y, x * y, x / y, x**y"
      ],
      "metadata": {
        "colab": {
          "base_uri": "https://localhost:8080/"
        },
        "id": "5k-NJuWzmyrp",
        "outputId": "1a416b35-0211-4bf0-9e81-be5b6c408ba2"
      },
      "execution_count": 16,
      "outputs": [
        {
          "output_type": "execute_result",
          "data": {
            "text/plain": [
              "(tensor(5.), tensor(6.), tensor(1.5000), tensor(9.))"
            ]
          },
          "metadata": {},
          "execution_count": 16
        }
      ]
    },
    {
      "cell_type": "markdown",
      "source": [
        "# 2.3.2 Vectors"
      ],
      "metadata": {
        "id": "yYbdziQgylJU"
      }
    },
    {
      "cell_type": "markdown",
      "source": [
        "\n",
        "\n",
        "\n",
        "---\n",
        "vector's element로 scalar를 쓰기도 한다. 벡터를 시각화 할 때는 수직으로 쌓아서 시각화함.\n",
        "\n",
        "indexing 가능, 길이 len(x)\n",
        "\n",
        "vector와 같이 axis가 하나면 shape에 element가 하나 나옴.\n"
      ],
      "metadata": {
        "id": "-z-2CBwimyBh"
      }
    },
    {
      "cell_type": "code",
      "source": [
        "x = torch.arange(3, dtype = torch.float32)\n",
        "print(x)\n",
        "print(x[1])\n",
        "print(x[2])\n",
        "print(len(x))\n",
        "print(x.shape)"
      ],
      "metadata": {
        "colab": {
          "base_uri": "https://localhost:8080/"
        },
        "id": "UI6IlSVioCic",
        "outputId": "db35103a-74a9-4db1-e863-aa419a56e09a"
      },
      "execution_count": 23,
      "outputs": [
        {
          "output_type": "stream",
          "name": "stdout",
          "text": [
            "tensor([0., 1., 2.])\n",
            "tensor(1.)\n",
            "tensor(2.)\n",
            "3\n",
            "torch.Size([3])\n"
          ]
        }
      ]
    },
    {
      "cell_type": "markdown",
      "source": [
        "# 2.3.3 Matrices"
      ],
      "metadata": {
        "id": "IJGWf3D8ys-J"
      }
    },
    {
      "cell_type": "markdown",
      "source": [
        "\n",
        "\n",
        "\n",
        "---\n",
        "\n",
        "scalar --> 0th-order tensor\n",
        "vector --> 1st-order tensor\n",
        "matix --> 2nd-order tensor\n",
        "\n",
        "A.T는 transpose를 나타냄.\n",
        "\n",
        "matrix A는 m * n, A.T는 n * m"
      ],
      "metadata": {
        "id": "nJZ5OELAqILh"
      }
    },
    {
      "cell_type": "code",
      "source": [
        "A = torch.arange(6).reshape(3,2)\n",
        "A, A.T"
      ],
      "metadata": {
        "colab": {
          "base_uri": "https://localhost:8080/"
        },
        "id": "lNnLKRjMq5Z_",
        "outputId": "51ff2339-a188-4b55-e515-5ae3f953a803"
      },
      "execution_count": 2,
      "outputs": [
        {
          "output_type": "execute_result",
          "data": {
            "text/plain": [
              "(tensor([[0, 1],\n",
              "         [2, 3],\n",
              "         [4, 5]]),\n",
              " tensor([[0, 2, 4],\n",
              "         [1, 3, 5]]))"
            ]
          },
          "metadata": {},
          "execution_count": 2
        }
      ]
    },
    {
      "cell_type": "code",
      "source": [
        "A = torch.tensor([[1, 2, 3], [2, 0, 4], [3, 4, 5]])\n",
        "A == A.T"
      ],
      "metadata": {
        "colab": {
          "base_uri": "https://localhost:8080/"
        },
        "id": "FU8O_P_WrRSN",
        "outputId": "6ce0731c-9975-4a3d-8bc6-553bfb8087f7"
      },
      "execution_count": 3,
      "outputs": [
        {
          "output_type": "execute_result",
          "data": {
            "text/plain": [
              "tensor([[True, True, True],\n",
              "        [True, True, True],\n",
              "        [True, True, True]])"
            ]
          },
          "metadata": {},
          "execution_count": 3
        }
      ]
    },
    {
      "cell_type": "markdown",
      "source": [
        "# 2.3.4 Tensors"
      ],
      "metadata": {
        "id": "f6WQkwEOyw20"
      }
    },
    {
      "cell_type": "markdown",
      "source": [
        "\n",
        "\n",
        "\n",
        "---\n",
        "\n",
        "scalar, vector, matrix는 각각 0차, 1차, 2차 tensor임.\n",
        "\n",
        "고차 tensor를 작업해야할 수도 있다.\n",
        "\n",
        "tensor는 주로 대문자로 표현됨."
      ],
      "metadata": {
        "id": "f-lzcfBkrIvM"
      }
    },
    {
      "cell_type": "code",
      "source": [
        "torch.arange(24).reshape(2, 3, 4)"
      ],
      "metadata": {
        "colab": {
          "base_uri": "https://localhost:8080/"
        },
        "id": "EYmM-QglriyN",
        "outputId": "61dbd2fc-0261-4cc5-eccb-6a763dbca0b9"
      },
      "execution_count": 4,
      "outputs": [
        {
          "output_type": "execute_result",
          "data": {
            "text/plain": [
              "tensor([[[ 0,  1,  2,  3],\n",
              "         [ 4,  5,  6,  7],\n",
              "         [ 8,  9, 10, 11]],\n",
              "\n",
              "        [[12, 13, 14, 15],\n",
              "         [16, 17, 18, 19],\n",
              "         [20, 21, 22, 23]]])"
            ]
          },
          "metadata": {},
          "execution_count": 4
        }
      ]
    },
    {
      "cell_type": "markdown",
      "source": [
        "# 2.3.5 Basic Properties of Tensor Arithmetic\n"
      ],
      "metadata": {
        "id": "hPR4V5p7y0xy"
      }
    },
    {
      "cell_type": "markdown",
      "source": [
        "\n",
        "\n",
        "---\n",
        "\n",
        "scalar, vector, matirx, nth-tensor는 요소별로 더하거나 곱할 수 있다.\n"
      ],
      "metadata": {
        "id": "67snsi2zsTHV"
      }
    },
    {
      "cell_type": "code",
      "source": [
        "A = torch.arange(6, dtype=torch.float32).reshape(2,3)\n",
        "B = A.clone()\n",
        "A, A + B, A * B"
      ],
      "metadata": {
        "colab": {
          "base_uri": "https://localhost:8080/"
        },
        "id": "5ls-2YZttWvZ",
        "outputId": "44c551e7-b6c4-4102-90f3-1fdf7d116f21"
      },
      "execution_count": 5,
      "outputs": [
        {
          "output_type": "execute_result",
          "data": {
            "text/plain": [
              "(tensor([[0., 1., 2.],\n",
              "         [3., 4., 5.]]),\n",
              " tensor([[ 0.,  2.,  4.],\n",
              "         [ 6.,  8., 10.]]),\n",
              " tensor([[ 0.,  1.,  4.],\n",
              "         [ 9., 16., 25.]]))"
            ]
          },
          "metadata": {},
          "execution_count": 5
        }
      ]
    },
    {
      "cell_type": "markdown",
      "source": [
        "scalar와 tensor를 더하거나 곱하면, tensor 모양과 같은 결과가 나옴.\n",
        "\n"
      ],
      "metadata": {
        "id": "86i7KQ2PtkwX"
      }
    },
    {
      "cell_type": "code",
      "source": [
        "a = 2\n",
        "X = torch.arange(24).reshape(2, 3, 4)\n",
        "a + X, (a * X).shape"
      ],
      "metadata": {
        "colab": {
          "base_uri": "https://localhost:8080/"
        },
        "id": "PTQQoCo8tvbL",
        "outputId": "47719a68-67d8-45c9-d9c6-f2d3ebfb6d90"
      },
      "execution_count": 6,
      "outputs": [
        {
          "output_type": "execute_result",
          "data": {
            "text/plain": [
              "(tensor([[[ 2,  3,  4,  5],\n",
              "          [ 6,  7,  8,  9],\n",
              "          [10, 11, 12, 13]],\n",
              " \n",
              "         [[14, 15, 16, 17],\n",
              "          [18, 19, 20, 21],\n",
              "          [22, 23, 24, 25]]]),\n",
              " torch.Size([2, 3, 4]))"
            ]
          },
          "metadata": {},
          "execution_count": 6
        }
      ]
    },
    {
      "cell_type": "markdown",
      "source": [
        "\n",
        "\n",
        "```\n",
        "\n",
        "# 2.3.6 Reduction"
      ],
      "metadata": {
        "id": "RlhjJWNgy4rG"
      }
    },
    {
      "cell_type": "markdown",
      "source": [
        "\n",
        "\n",
        "\n",
        "---\n",
        "\n"
      ],
      "metadata": {
        "id": "MJpmZjZGuZ6M"
      }
    },
    {
      "cell_type": "code",
      "source": [
        "A, A.shape, A.sum(), A.sum(axis=0)"
      ],
      "metadata": {
        "colab": {
          "base_uri": "https://localhost:8080/"
        },
        "id": "mHVuhDq1wIqG",
        "outputId": "3561c127-e101-4d35-b5dd-a1dede56c3ca"
      },
      "execution_count": 11,
      "outputs": [
        {
          "output_type": "execute_result",
          "data": {
            "text/plain": [
              "(tensor([[0., 1., 2.],\n",
              "         [3., 4., 5.]]),\n",
              " torch.Size([2, 3]),\n",
              " tensor(15.),\n",
              " tensor([3., 5., 7.]))"
            ]
          },
          "metadata": {},
          "execution_count": 11
        }
      ]
    },
    {
      "cell_type": "markdown",
      "source": [
        "sum 함수를 호출하면 모든 axis가 reduce되어 scalar가 생성된다.\n",
        "\n",
        "reduce 되어야할 축을 지정할 수도 있다. 해당 축을 따라 축소되어 출력 벡터를 생성한다.\n",
        "\n",
        "A.sum(axis=[0, 1]) == A.sum()"
      ],
      "metadata": {
        "id": "VS63JwQRw4Y1"
      }
    },
    {
      "cell_type": "code",
      "source": [
        "A.shape, A.sum(axis=0).shape, A.sum(axis=1).shape"
      ],
      "metadata": {
        "colab": {
          "base_uri": "https://localhost:8080/"
        },
        "id": "lPRzfL0lxOIe",
        "outputId": "7b08aa44-00b8-4600-ae20-10084d8392b4"
      },
      "execution_count": 8,
      "outputs": [
        {
          "output_type": "execute_result",
          "data": {
            "text/plain": [
              "(torch.Size([2, 3]), torch.Size([3]), torch.Size([2]))"
            ]
          },
          "metadata": {},
          "execution_count": 8
        }
      ]
    },
    {
      "cell_type": "markdown",
      "source": [
        "mean(average)도 행렬 전체를 대상으로 할 수도 있고, 축을 지정하여 표현할 수도 있다."
      ],
      "metadata": {
        "id": "MtpLhCTgx1OL"
      }
    },
    {
      "cell_type": "code",
      "source": [
        "A.mean(), A.sum()/A.numel()"
      ],
      "metadata": {
        "colab": {
          "base_uri": "https://localhost:8080/"
        },
        "id": "R8JNq8VYyCJW",
        "outputId": "a32f0bfb-5fa8-4056-d76b-06744c57e087"
      },
      "execution_count": 9,
      "outputs": [
        {
          "output_type": "execute_result",
          "data": {
            "text/plain": [
              "(tensor(2.5000), tensor(2.5000))"
            ]
          },
          "metadata": {},
          "execution_count": 9
        }
      ]
    },
    {
      "cell_type": "markdown",
      "source": [
        "mean도 특정 축에 따라 조정할 수도 있음\n",
        "A.shape[0] == 2 (열)"
      ],
      "metadata": {
        "id": "GD_4l95Y1LCt"
      }
    },
    {
      "cell_type": "code",
      "source": [
        "A.mean(axis=0), A.sum(axis=0) / A.shape[0]"
      ],
      "metadata": {
        "id": "0e_yfx701Pua",
        "outputId": "03a1bfe3-b17f-4deb-f5ec-26766a8a6663",
        "colab": {
          "base_uri": "https://localhost:8080/"
        }
      },
      "execution_count": 10,
      "outputs": [
        {
          "output_type": "execute_result",
          "data": {
            "text/plain": [
              "(tensor([1.5000, 2.5000, 3.5000]), tensor([1.5000, 2.5000, 3.5000]))"
            ]
          },
          "metadata": {},
          "execution_count": 10
        }
      ]
    },
    {
      "cell_type": "markdown",
      "source": [
        "#2.3.7 Non-Reduction Sum"
      ],
      "metadata": {
        "id": "_lf676A51yxD"
      }
    },
    {
      "cell_type": "markdown",
      "source": [
        "\n",
        "\n",
        "---\n",
        "sum_A를 써서 각 행을 합산하되 축을 유지한 행렬을 생성할 수 있다."
      ],
      "metadata": {
        "id": "1riDLECR17b4"
      }
    },
    {
      "cell_type": "code",
      "source": [
        "sum_A = A.sum(axis=1, keepdims=True)\n",
        "sum_A, sum_A.shape"
      ],
      "metadata": {
        "id": "1yEj51rM18Gl",
        "outputId": "04d40a21-c2bd-4691-b3c4-1feb569ba83a",
        "colab": {
          "base_uri": "https://localhost:8080/"
        }
      },
      "execution_count": 12,
      "outputs": [
        {
          "output_type": "execute_result",
          "data": {
            "text/plain": [
              "(tensor([[ 3.],\n",
              "         [12.]]),\n",
              " torch.Size([2, 1]))"
            ]
          },
          "metadata": {},
          "execution_count": 12
        }
      ]
    },
    {
      "cell_type": "code",
      "source": [
        "A / sum_A"
      ],
      "metadata": {
        "id": "3Jp64Vku62Jy",
        "outputId": "3dbc695c-f441-4896-c396-0e798e6653d6",
        "colab": {
          "base_uri": "https://localhost:8080/"
        }
      },
      "execution_count": 13,
      "outputs": [
        {
          "output_type": "execute_result",
          "data": {
            "text/plain": [
              "tensor([[0.0000, 0.3333, 0.6667],\n",
              "        [0.2500, 0.3333, 0.4167]])"
            ]
          },
          "metadata": {},
          "execution_count": 13
        }
      ]
    },
    {
      "cell_type": "markdown",
      "source": [
        "축마다 누적 합을 계산할 수도 있음\n",
        "\n",
        "원래 A 상태 [[0., 1., 2.],[3., 4., 5.]]"
      ],
      "metadata": {
        "id": "SllrwFNU7AML"
      }
    },
    {
      "cell_type": "code",
      "source": [
        "A.cumsum(axis=0), A.cumsum(axis=1)"
      ],
      "metadata": {
        "id": "hRUQxEB_6_2O",
        "outputId": "8a59bb54-21f8-4a70-9f25-7d9bcd912981",
        "colab": {
          "base_uri": "https://localhost:8080/"
        }
      },
      "execution_count": 14,
      "outputs": [
        {
          "output_type": "execute_result",
          "data": {
            "text/plain": [
              "(tensor([[0., 1., 2.],\n",
              "         [3., 5., 7.]]),\n",
              " tensor([[ 0.,  1.,  3.],\n",
              "         [ 3.,  7., 12.]]))"
            ]
          },
          "metadata": {},
          "execution_count": 14
        }
      ]
    },
    {
      "cell_type": "markdown",
      "source": [
        "# 2.3.8~10 Dot, Matrix-Vector, Matrix-Matrix Products"
      ],
      "metadata": {
        "id": "_S_2MV3v7VpM"
      }
    },
    {
      "cell_type": "markdown",
      "source": [
        "\n",
        "\n",
        "---\n",
        "본격적 행렬 다루기.\n",
        "\n",
        "dot product = 내적\n",
        "\n",
        "(같은 위치에 있는 요소의 곱의 합)\n"
      ],
      "metadata": {
        "id": "YNIkDhj-7Y6S"
      }
    },
    {
      "cell_type": "code",
      "source": [
        "y = torch.ones(3, dtype = torch.float32)\n",
        "x, y, torch.dot(x, y)"
      ],
      "metadata": {
        "id": "nf6tdbN976eY",
        "outputId": "2f36c335-b4b6-415c-c3c1-81ef0784de45",
        "colab": {
          "base_uri": "https://localhost:8080/"
        }
      },
      "execution_count": 25,
      "outputs": [
        {
          "output_type": "execute_result",
          "data": {
            "text/plain": [
              "(tensor([0., 1., 2.]), tensor([1., 1., 1.]), tensor(3.))"
            ]
          },
          "metadata": {},
          "execution_count": 25
        }
      ]
    },
    {
      "cell_type": "markdown",
      "source": [
        "matrix-vector product (mv) 진행할 수 있다.\n",
        "\n",
        "matrix의 column dimension == vector의 dimension 여야 함.\n",
        "\n",
        "matrix-matrix 할 때는 (mm) 쓰기\n",
        "\n",
        "@는 matix-vector와 matrix-matrix 둘 다 쓴다."
      ],
      "metadata": {
        "id": "wOYvptrT_mpJ"
      }
    },
    {
      "cell_type": "code",
      "source": [
        "A.shape, x.shape, torch.mv(A, x), A@x"
      ],
      "metadata": {
        "id": "VGuwDmiH_ztB",
        "outputId": "a0a832af-d49b-46a5-a8d1-a33956f05648",
        "colab": {
          "base_uri": "https://localhost:8080/"
        }
      },
      "execution_count": 26,
      "outputs": [
        {
          "output_type": "execute_result",
          "data": {
            "text/plain": [
              "(torch.Size([2, 3]), torch.Size([3]), tensor([ 5., 14.]), tensor([ 5., 14.]))"
            ]
          },
          "metadata": {},
          "execution_count": 26
        }
      ]
    },
    {
      "cell_type": "code",
      "source": [
        "B = torch.ones(3,4)\n",
        "torch.mm(A, B), A@B"
      ],
      "metadata": {
        "id": "fY36d1aTAm8o",
        "outputId": "3b93abbe-824c-469e-c642-687ff3e59031",
        "colab": {
          "base_uri": "https://localhost:8080/"
        }
      },
      "execution_count": 27,
      "outputs": [
        {
          "output_type": "execute_result",
          "data": {
            "text/plain": [
              "(tensor([[ 3.,  3.,  3.,  3.],\n",
              "         [12., 12., 12., 12.]]),\n",
              " tensor([[ 3.,  3.,  3.,  3.],\n",
              "         [12., 12., 12., 12.]]))"
            ]
          },
          "metadata": {},
          "execution_count": 27
        }
      ]
    },
    {
      "cell_type": "markdown",
      "source": [
        "# 2.3.11 Norms\n",
        "\n",
        "\n",
        "---\n",
        "\n",
        "![image.png](data:image/png;base64,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)"
      ],
      "metadata": {
        "id": "CHQOb4E6A1n3"
      }
    },
    {
      "cell_type": "markdown",
      "source": [
        "l2 norm (Euclidean norm)\n",
        "\n",
        "the square root of the sum of squared of a vector's element\n",
        "\n",
        "피타고라스처럼 빗변을 구함."
      ],
      "metadata": {
        "id": "Q9c_M7n7DWan"
      }
    },
    {
      "cell_type": "code",
      "source": [
        "u = torch.tensor([3.0, -4.0])\n",
        "torch.norm(u)"
      ],
      "metadata": {
        "id": "L0D_SGMZDpQg",
        "outputId": "5b61504a-641d-4ad5-da56-dabc1c5f9b49",
        "colab": {
          "base_uri": "https://localhost:8080/"
        }
      },
      "execution_count": 28,
      "outputs": [
        {
          "output_type": "execute_result",
          "data": {
            "text/plain": [
              "tensor(5.)"
            ]
          },
          "metadata": {},
          "execution_count": 28
        }
      ]
    },
    {
      "cell_type": "markdown",
      "source": [
        "l1 norm (Manhattan distance)\n",
        "\n",
        "벡터 요소의 절댓값 합"
      ],
      "metadata": {
        "id": "Kyod0u5FDysF"
      }
    },
    {
      "cell_type": "code",
      "source": [
        "torch.abs(u).sum()"
      ],
      "metadata": {
        "id": "-Gai1DmtD9T4",
        "outputId": "79e30153-082a-4e55-b9a0-2a39055117e3",
        "colab": {
          "base_uri": "https://localhost:8080/"
        }
      },
      "execution_count": 29,
      "outputs": [
        {
          "output_type": "execute_result",
          "data": {
            "text/plain": [
              "tensor(7.)"
            ]
          },
          "metadata": {},
          "execution_count": 29
        }
      ]
    },
    {
      "cell_type": "markdown",
      "source": [
        "lp norm (general norm)\n",
        "\n",
        "l2와 l1은 lp의 특수한 경우\n",
        "\n",
        "![image.png](data:image/png;base64,iVBORw0KGgoAAAANSUhEUgAAAUQAAACGCAIAAAAq32SaAAAYDUlEQVR4Ae1d7U9Tyff//inzvm9ITPrmJoaQJg3pixJilCWINSoRJMaKsatEYHETEJZAlLgWo4mG1A3LQ3ZlJdEEhYVdNAprUJAgDyKyraS2QOvl3lff/Xp+v9mxD7e397nl9EVze+/MmTOfmU/vzJkzZ/4j4gcRQATyAoH/5EUtsBKIACIgIpmxEyACeYIAkjlPGhKrgQggmbEPIAJ5ggCSOU8aEquBCCCZsQ8gAnmCAJI5TxoSq4EIIJmxDyACeYIAkjlPGhKrgQggmbEPIAJ5ggCSOU8aEquBCCCZsQ8gAnmCAJI5TxoSq4EIIJmxDyACeYIAkjlPGhKrgQggmbEPIAJ5ggCSOU8aEquBCCCZsQ8gAnmCAJI5TxoSq4EIIJmxDyACeYIAkjlPGhKrgQggmbEPIAJ5ggCSOU8aEquBCCCZsQ8gAgYhsLm56fP5lpaWdCoPyawTsCh2DyEgCEIkEuF5XrrOY2NjFy9e3N7elk6m+CmSWTF0mBEREHmeX1paunz5ssvlWlhYkECE5/n29vbh4WGJNCofIZlVAojZ9y4CAwMDHMcdOXKE47ji4mJpMr9//76mpmZ5eVk/vJDM+mGLkvcEAqFQ6PDhwxnJPDw83NTUFI/H9QMFyawftih5TyAgh8yxWKypqemfObOuiCCZdYVXR+GCIPzyyy+1tbUrKys6FpOPon/66afz589vbGxoUjk5ZF5YWKipqVlfX4cSBUEYHh52u90ul2t8fHxoaKiiosLlcvl8vmAwqFgrJLNi6MzMKAjC4ODgvn37BgcHBUEwU5UcLHtjY+P48ePV1dWa8FkOmQOBQFdXF22p9fX1urq62dnZw4cPE0I6Ojqi0ejm5mZVVVVzc3MsFlMGKpJZGW4m55qYmOA47tKlS/qtc5hcQ52Ln56e5jiuvr4+Go2qLCojmSORyLlz554/f04LGhkZaWlpWVpaKi0tPX36dDgcFkVxe3v7woULpaWlq6urNGVWF0jmrOCyROLFxUW3211WVra2tmYJhXJQCUEQ+vv7CSHXr1/PuD4sXb+MZJ6ZmTl16tTm5iaVs/3lMzU1ZbPZ6Bt7c3PT4/FkNKRRIckXSOZkTCx9JxqN1tfX2+328fFxSytqeeWi0ajP5+M4bmJiQo2y0mQWBMHv99+9eze5iLt37xJCHj9+DI9mZ2cLCws9Hg9L++RcEneQzBLgWO6RIAi9vb2EEDUzK8vVyjyFZmdnHQ5HaWmpGiOiNJlDoVBNTc3c3FxCLWFQ7XK53r59C4+Gh4cJIe3t7YpHCkjmBJAt/RM6n5qRmKWrZ7hygiDcvHmTENLa2qqYQtJkHhsbO3fuXPLM/P3794cOHTpz5kwkEqETZrfbvbi4qBgGJLNi6IzOCMNCQsjNmzepXdRoJfKuvLW1tbKyMpvNNjo6qqxywWCwvLzc6XS+efMmQYKEC+ezZ89sNltxcfH8/Pzu7m5/f39hYaHKAT+SOQF/6/588OCBzWZDu5e2LURnLtXV1dlOVgcGBkjSp7Ozk2oo4cIJE+bm5ubSLx+v1/vq1SuaUdkFklkZbkbn+vvvv48dO0YI6e3tVflaDgaDPp/P6XT6fL53797duXOnoqKipKSksrJyZmbG6IpZoLz19fXy8nJCyMDAgLbqpHPh3NnZqa+v13y6hGTWtvn0khYIBAgh6l/LMEu8c+fOxMQEIcTpdA4ODu7u7sJYsa6uLnl2p1eVLCOXvpzLy8upk5Z67SRcOGHCfPLkSVhhVl8WSEAya4WkjnLoq8Pv96t8LVPjKgzz6CorkFnz7qUjKJqKXl5edrvdhJBAIKCV4AQXTlYsrDC3tLQotrqx0ug1kplCYd0LeC07HI7kFY5sleZ5PhwOR6PRCxcusDYbWOTs6enJVmB+pAdLFSFEw5fzwMAAdQihKH3+/Pn777+nE201/l5UJr1AMlMoLHoBLruEkAsXLmjlvAnDPNY/IRAI2Gy2qakpi6Kgv1rwtiSEaBI/IBaLXb58eXp6Wn/F/y0ByfwvFta8Ghsbs9lsWnUyqGPCMC8ajdbV1VVWVoZCoWg0quueW2uCLIoi/dPMXcMBktmyvet/ivE839LSQghxu90aBqmACTM13j5//txut/v9/lAo5PV61Q/mLY1pGuXA75IQUlhYODs7myaVpW8jmS3dPNQw09DQoHhnXEINYV2E7bJDQ0OEkImJicHBwStXrmhrlUko3co/4U+NEKLe0GhKNZHMpsAut1Dw19V2CRR257DbJzc2Nk6fPl1cXNzY2Pjx40e5yuVdulAoVFlZSQipqqrK1oHECmAgma3QCql1iMfjTU1NOT3wS10xq96lkxq73Z6L/jNIZqv2LFFcXV0tLS0lhOzZ5V/j22ZkZATWjXJxlQ7JbHyHkVvi48ePoWN1dHSo9BWRW+SeT/fmzRun00kIofuZcggSJLNFG0sQhK6uLiDzyMiIRbXMO7XC4fDJkycJIZo7ThsAFZLZAJCVFBGJRM6cOYMTZiXYqchDp81sDBAV8gzNimQ2FG75hdEJc3l5uZzwq6urq78b8nn27JlWi2Ty0TAyZV9fX45Om5HMRvaTLMqanJyELnX+/Pmtra2MOVPurQUJ2n7b7XY20GRGxXIuwdTUVFbIW6eCSGbrtMVXmoCTFiGE3ez+VYqvf0AsaJa3yuLIxuPxUCi0trb2xx9/BAKBs2fPchzHilUZp+prra34a2Fhobi4mBBy6NCh9+/fW1HFNDohmdMAY+ptduZGnS4zagTBtFni9ff3qzeD8zz/6tWrxsbGgoICEK6tb2nGehmcAGJ65aK1AslscFeRVRy1qRJCJicnZeURRRoLmvKZ4zgNN0KtrKx4vV4QnsdxyLa2ts6fPw/VpHFwZTaBucmQzObin7p02KIIkUCSw8SlzvPlLkTVpmQmhBw/flyTQ1igUJ7nYbOkhvt+JapjyiNBEDo6OgDDlPGuTdFKTqEGkZnn+du3b9+/f5/qFAwGr1y58u7dO3pHzUUwGGxqaqIhiEVRfPr06Y0bN3LU7kpdFxRsXl9ZWQG/MUppNXFkkxsFjrmy2WzS+36fPn3a1tam1QbsZDXgzv3792/fvs3uDIEIZ/v37//uu+/+CXz57bffHjx40OVy/fbbb/JnHD09PYBebrnrGERmCPnN2nLAzKDVIDBZ2sDAwOHDh0OhULp+YOX71KCqrAoJk2ebzabt+XKxWKy5uVl6368x+Hd2dibEbAgEAr29vXD0jNvtfvHiBRy5yHGc/FABdGkgQbiV+4woikhmKzYQ7Uwy16US6sDzfHd3N30zgz/T/Px8QjI1P+fn52tqaiToYQqZw+Gw1+udnZ2FV+ujR4+gjvDnKN/dmq4LKvszVQOsmrxIZjXo6ZWXDvPq6+t3dnYUFPPp0ydqrAJWV1VVyXE+UVBWyiymkHl3d5dGOGP9MWHDNjswTKkzvUlHRgqmOVSI8RdIZuMxz1xiZ2cnMFB+/0sWOj8/DxEn6Su6u7ubnV4mZ9HwjilkBv0TTn6h63xDQ0MyK0iXmtl/BJl5TUyGZDYR/NRFg31BPZlFURwaGoL4YSBNzSEsqXVNf9dEMkOEs2vXroF2ENwrq9imlMw2m+3Zs2fpa2mtJ0hma7UHPUMM6NfX16dGP57n6dYrEOh2u7WdPKdTz0Qyg/McXSKenJy02+00Qng6hdn7EEUcENPKRsvK1+kayawTsMrFsh4j8t2/0pWnlZtnOvnp7ptFZohwRgjp6urieX5tbe348ePZerZSJzBCSA7tP0Uyp+uNpt1ne5J6MouiOD09neBfbYD/lllkhgnz0aNHz549C2ey3blzJ9vlbs2bwJjOZCEyU6sPDG/gGxb6qHWRPkqwTOTTOjPbkzR5LVA3D4oex3EqTw/N2DvTkTkWiw0NDYFlzul03rt3LxaLvXz5sqqqCjzehoaG5FvpkteZ4ajU5KMkMirMJtB2cMRK1vXaQmS+detWRUXFgQMHqM2moKCgtbV1Z2dnZmampKQE+mJJSUlFRUVNTc3S0hKFJp/IrMeEbXt7+9KlS5TMhBCPx/PhwwcKoOYXKckcjUYbGxuPHj06OTm5sbHR2tpKCKmrqyspKbl58+bKysrFixez2mKZTGaYMKv8E2RtkCrNFpoDKyHQQmQGLVnvYuq6RG+mm/wYQOZff/2V/suwrMh4fejQobW1NYk2SHhETamEEA2tLx8+fPB4PKy2bLTdBB3U/0wmM8/z169fZ33F6YCrubl5a2urvb0d1JM/uUggM5CQDQmurCIsmdWsDiorXXEuy5FZFEXWZsNx3JMnT8Cfie0HCRU2gMyw0TeU/SccDsv3ChZFUScyi6Kot5sn2yjJZF5YWHC5XGNjYzQZjVj4+PFjGiYpYQJFE6e8YMn88uVL1jQg398rWTKSORmTf+8AOuyfXDL9/k0tiskOD9JrKsnSkjsTK9/K1/qRGQ5nZl/ODodDp6NYkvF/8uTJxYsX2eDy165dI4RQL6u1tbXff/89q1EMS2YN2xTJLAVmtmROeI3Y7fbx8XGJApDMEuCwj+iEhVJaJzfPZDKzaoiiSF/FGTczwPg8ZR9AMrOoWnGYDfolODxIuyIimdlGlb5OGPVIAystSuJpRjK/ffvW5XIRQjKOh6PRqM/nKy0tXVhYSCgRycwCYl0yszNnQgg1hrHa02skM4VCzsX4+LjdbieEpDMoyhEinSYjmWHCrPJQaCQz2woWJTMdDVZXV1dUVMCYUGJ11AAyw84bOjqVf2ERazZtdbrsLGFQpIkVXySTeXd3d/bLZ3d3l4b4pxNmKGhqaqq3tzcajcosF8nMAmVFMtPtuNDb2GFhOjOYTDIvLi5WVVXt37/f7/e/ePGitra2tLT04MGDcpzpeZ7f3NzM3pgdytaaTcef2i5N0VYHm7auTBZFMYHMMO+FEdbU1BT1ymA3bMOZ7+3t7dRpZHt7u7u7u6Sk5NixY4uLi7QK9MIAMtMNG7RQIy9isdj0l4+cmDmWIzN9b1De0jvwMkw5MpRDZp7nf/jhh9HRUXA183g8S0tLcMR2aWnpPx4LRjaSRFmsB5j8aH4SAtlHr1+/dn/56L3dIoHMcI4sIYTjuJcvX9KTkBsbG6GbQiuXlJRQ0gL/u7u7X7165XQ6U5JKJzKzMf3kL3qzOGtyza4+NDc3Z+SzVci8s7PT1tZWUVFRVlYGIV2Liopu3boFoPT09NA4r4QQcAJra2ujG/flkHl1dbW2tnZlZaWpqamwsPCvv/4C4RDWQ6XPkCaNB0JYMmvbk2CMIzFb0bAWCWSG5Yz9+/c/efLk7du3Ho/n1KlTDofD7Xa/fv06Go3eu3evqKiIdTJdXl6ura1dX1+HQ6pTQqETmfVrgqwQpptGwGOPXdVLKccqZGZX9uh0lK5LS7htQ63kkJnn+UgkEgwGK798Qv8fHgxWO1P2lZSQ6X1Tp54EBkVpO6KGVUsgsyiK79698/l8BQUFRUVFgUAAXLKrq6ttNltBQYHP50sYHMXj8XA4HIlE6urq0kXqzm8yi6I4MzPzzTffOJ1OuqNToo2sQmYJFeU8kkNmkDM7O1tYWNjS0gITM1jttNQedD3GeGBQNIzJyXNmOY2YMs3c3JzD4aDtlZDGADJr6FGboLzmP/ccmWFQTSPILC8vu91uS0WBZgcpKSeK2XaCaDQKWxp0WlJOqU/ymzllMumbYNGw2WxjY2PxeDzZyq0TmempfTrZIKVrrfjp3iIzhINiHfEHBgZsNhvltmIcNcxIY1bJP2hKonS6NJDScCiRUeUjTcgMEX+qqqpCoZDf7w8EAgla6URmGOjl3Ak1e4vM1KYKhzCBadfI91VCX0z3k9oI0g0v02VMuE8XAs6cOaNtaM5IJPLnn39K+FFrQmZYpevo6Jifnz979mzynk2dyDwzMwNONVnt+kgA3/ife4vMMGGura2trq4+cOBAWVnZ8PAwXdU0Hv10JdK42Rn9ltNJEL8cPfXo0SOO4/RYUh4eHk7w90jQRBMy8zzv9/sdDofH45mZmUkoQhRFnchM92Zi3OxkzEUFGy1SSEl/S6YBDLy4rGO4TlehkZERMOmfPHkyHA6nSyZ9H5xD6HK9dOKsnq6trZWVlbHeHcnZNSFzstiEOzqRWRP8E1Q14KeZb2aXyyXH9UoOCinJ/M9iJrs0B3NRu92e8j9eTimGpYHYN4SQ8vJyZcNj/ZaU6RIXuzM5GZmcJnNfXx/1UKK+DMl1tNodg8gsimI0GmXjqsHhA1oNcZOlwSolGxUgFApVVlbmxAna1KNT2ZwNQlJq7hwiCMLMzAy4yldWVtKF+pR9Ohn/lMlU3tze3k42cauUCaN3ILMmqwnq9ZEpwTgyy1RIp2QPHz6kvijWj59K/UYULIDTN6e2h8Wtr6+3trZSPzy/38/+UerUaqaIZf2urD8jYyHaK2Rm62z9a7Y/ZeVnSnebaWKi53l+ZWXl559/PnHiBBv/jF3bsz6Y2WpIN4Eo+CfNtixt0yOZtcVTM2ngZEoIkX/eN11SLiwsbGtr61b06ezsPHHiREVFRVFRETuWYa+lD3PVDAKTBFGPEZfLxZ74bZI6WRSLZM4CLCOTUoNqU1NTPB7PWDRlMss6na6lj1nPqKrFE9BFZjVLCabUEclsCuyZC4UlcUKIzC718OFDdiSsE43Z+HuZ65CbKejfqEqPHeNrj2Q2HnNZJYLtnRCSc4M9WdWzcCI6wckt65coikhmi3areDze1NQEL1jNQxRYtM4WUItuWcsJf4QEwJDMCYBY6Cd16pRvA7OQ9rmpCpw7RwjJuJBuwfohmS3YKP+nEp0219fX55AfknUBlaEZHNROCMm5CTMOs2U0r3lJ6IKnuV5rgiBEIhGtfPXMg1NWyXDunPXdilJWBt/MKWGxys2enh4a0TJbnTY2NqqrqysrKzc2NrLNC+l5nl9aWrp8+bLL5UoOQK9MppVzQXjQ3LXYI5mt3LtEGsVSgfvk3NxccXFxY2OjMu/lgYEBjuOOHDnCcZwyF3FLI5tKORqToKGhIWMozFQCTL6HZDa5AaSLpyPtqqoqdgeYdC4Nn4KX+B4hM4QBzdExNs6ZNez2eokKBAKEkKyOINdQlb1D5lgs1tDQANtO19fXNcTQMFH4ZjYMaoUFQchBQkhXV5fMjUqrq6ter7e4uLitrU3ZGJvqunfITMfYCmY0FC5zL5DM5uKfuXSe59vb2+W/MYLBYG1t7cTERF9fn/p9P3uHzDACcjgcc3NzmVvFkimQzJZslq+Vmp6e5jiOECJnh8Pw8HB7e/vW1lZDQwOd637+/Pnq1asVMj4//vgjuwq1R8gMYUAJIXJOgfm6cSz0C8lsocZIp0osFmtubiaEyNl7CBFdIHa8eqvsHiHz2NiYzWbjOG56ejpdK1j/PpLZ+m30Pw3h5Wy322X6acOgUc6ZJtL13wtkpqavnH4tozVbuidb6CnP83AqhZzguzBoLC8vX19fj0aj8Xhc/jD7xo0bu7u7tOZ7gcywmO9wOGZnZ2nFc/EC38w502pgbpXzcobe6ff7Q6GQ1+tVY9HJezLTw4CuXbvGGgtyplswiiKZGTCsfSkIQn9/PyHE6/V++vRJQlkIDz4xMTE4OHj16lU1fTQYDJaXlzudzjdv3kiUmLuPRkdHbTabx+NJPi4j5yqFZM6lJvv06ZPX6814ONbGxsbp06fBl/Pjx4/Kakg3YLJBS+ghu8pkWi3X5uYmnCk7OjpqNd0U6INkVgCamVkgun1ZWZnEOU9m6pc7ZQuC0NvbSwjRJJKpFeqNZLZCK2ShAz0LrrW1Vc34OYsi8zTp/Px8cXGxHgdxmQUYktks5JWXC4E4bTbbgwcPlEvZ2zlhwqLHQVwm4opkNhF85UVDsPs864vK4cgyJ/wban58T5ZaaJ8cyaw9psZIhGNoqqurTdkaaUwddSrlwYMH+/bt0/b4Hp1UzUoskjkruKyVOB6Pb25u4sw521aJRqPhcFjmFrRshZuYHslsIvhYNCKgJQJIZi3RRFmIgIkIIJlNBB+LRgS0RADJrCWaKAsRMBEBJLOJ4GPRiICWCCCZtUQTZSECJiKAZDYRfCwaEdASASSzlmiiLETARASQzCaCj0UjAloigGTWEk2UhQiYiACS2UTwsWhEQEsEkMxaoomyEAETEUAymwg+Fo0IaIkAkllLNFEWImAiAkhmE8HHohEBLRFAMmuJJspCBExE4L9KEgd8rkzeqQAAAABJRU5ErkJggg==)"
      ],
      "metadata": {
        "id": "BOXNaob0E2R2"
      }
    },
    {
      "cell_type": "markdown",
      "source": [
        "Frobenius norm\n",
        "\n",
        "행렬 element 제곱 합의 제곱근\n",
        "\n",
        "![image.png](data:image/png;base64,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)"
      ],
      "metadata": {
        "id": "AMNUMb9jFEf1"
      }
    },
    {
      "cell_type": "markdown",
      "source": [
        "# 2.3.13 연습문제\n",
        "\n",
        "\n",
        "---\n",
        "이어서...\n"
      ],
      "metadata": {
        "id": "UyeYacBdGAka"
      }
    }
  ]
}