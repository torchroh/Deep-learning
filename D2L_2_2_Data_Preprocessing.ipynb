{
  "nbformat": 4,
  "nbformat_minor": 0,
  "metadata": {
    "colab": {
      "provenance": [],
      "toc_visible": true,
      "authorship_tag": "ABX9TyN0KPz6q8TrfU6FKEtKDmeG",
      "include_colab_link": true
    },
    "kernelspec": {
      "name": "python3",
      "display_name": "Python 3"
    },
    "language_info": {
      "name": "python"
    }
  },
  "cells": [
    {
      "cell_type": "markdown",
      "metadata": {
        "id": "view-in-github",
        "colab_type": "text"
      },
      "source": [
        "<a href=\"https://colab.research.google.com/github/torchroh/Deep-learning/blob/main/D2L_2_2_Data_Preprocessing.ipynb\" target=\"_parent\"><img src=\"https://colab.research.google.com/assets/colab-badge.svg\" alt=\"Open In Colab\"/></a>"
      ]
    },
    {
      "cell_type": "markdown",
      "source": [
        "2.2.1 Reading the Dataset\n",
        "\n",
        "---\n",
        "\n",
        "\n",
        "csv파일 만들고 데이터 읽기"
      ],
      "metadata": {
        "id": "K-T_hi7u1e19"
      }
    },
    {
      "cell_type": "code",
      "execution_count": 22,
      "metadata": {
        "id": "uaioaT2_HC_4"
      },
      "outputs": [],
      "source": [
        "import os\n",
        "\n",
        "os.makedirs(os.path.join('..', 'data'), exist_ok=True)\n",
        "data_file = os.path.join('..', 'data', 'house_tiny.csv')\n",
        "with open(data_file, 'w') as f:\n",
        "  f.write(''' NumRooms, RoofType, Price\n",
        "  NaN, NaN, 127500\n",
        "  2, NaN, 106000\n",
        "  4, Slate, 178100\n",
        "  NaN, NaN, 140000''')"
      ]
    },
    {
      "cell_type": "code",
      "source": [
        "import pandas as pd\n",
        "\n",
        "data = pd.read_csv(data_file)\n",
        "print(data)"
      ],
      "metadata": {
        "colab": {
          "base_uri": "https://localhost:8080/"
        },
        "id": "k4LGXgF71GXJ",
        "outputId": "24185382-6351-4284-c97b-a62f1bacaaba"
      },
      "execution_count": 23,
      "outputs": [
        {
          "output_type": "stream",
          "name": "stdout",
          "text": [
            "   NumRooms  RoofType   Price\n",
            "0       NaN       NaN  127500\n",
            "1         2       NaN  106000\n",
            "2         4     Slate  178100\n",
            "3       NaN       NaN  140000\n"
          ]
        }
      ]
    },
    {
      "cell_type": "markdown",
      "source": [
        "2.2.2 Data Preparation (데이터 열 분할)\n",
        "\n",
        "---\n",
        "\n",
        "\n",
        "input versus와 target versus로 구분하기\n",
        "--> iloc 사용, indexing\n"
      ],
      "metadata": {
        "id": "7A5SyYJc1eQd"
      }
    },
    {
      "cell_type": "code",
      "source": [
        "inputs, targets = data.iloc[:, 0:2], data.iloc[:, 2]\n",
        "print(inputs)\n",
        "print(targets)"
      ],
      "metadata": {
        "colab": {
          "base_uri": "https://localhost:8080/"
        },
        "id": "1LhiEAEm4PDo",
        "outputId": "b783089d-fd43-4b36-dbac-5085f5e0a388"
      },
      "execution_count": 24,
      "outputs": [
        {
          "output_type": "stream",
          "name": "stdout",
          "text": [
            "   NumRooms  RoofType\n",
            "0       NaN       NaN\n",
            "1         2       NaN\n",
            "2         4     Slate\n",
            "3       NaN       NaN\n",
            "0    127500\n",
            "1    106000\n",
            "2    178100\n",
            "3    140000\n",
            "Name:  Price, dtype: int64\n"
          ]
        }
      ]
    },
    {
      "cell_type": "markdown",
      "source": [
        "pandas는 숫자가 아닌 값을 NaN로 대체함.\n",
        "--> missing values. 이러한 값들은 대체되거나 삭제될 수 있음.\n",
        "\n",
        "RoofType를 Slate와 NaN 두가지로 나눠서 True/False로 표현.\n",
        "\n",
        "** 여기서 왜 교재랑 다르게 출력되는지를 모르겠음...\n",
        "NumRooms는 가만히 있어야하는데...아예 숫자들이 다 사라짐.\n"
      ],
      "metadata": {
        "id": "n_yw2-Pl5nVg"
      }
    },
    {
      "cell_type": "code",
      "source": [
        "inputs = pd.get_dummies(inputs, dummy_na=True)\n",
        "print(inputs)"
      ],
      "metadata": {
        "colab": {
          "base_uri": "https://localhost:8080/"
        },
        "id": "D2v6-PeL5gvo",
        "outputId": "2cb4f5dc-c81f-4797-bb53-4b86bb66053f"
      },
      "execution_count": 25,
      "outputs": [
        {
          "output_type": "stream",
          "name": "stdout",
          "text": [
            "    NumRooms_  2   NumRooms_  4   NumRooms_  NaN   NumRooms_nan  \\\n",
            "0          False          False             True          False   \n",
            "1           True          False            False          False   \n",
            "2          False           True            False          False   \n",
            "3          False          False             True          False   \n",
            "\n",
            "    RoofType_ NaN   RoofType_ Slate   RoofType_nan  \n",
            "0            True             False          False  \n",
            "1            True             False          False  \n",
            "2           False              True          False  \n",
            "3            True             False          False  \n"
          ]
        }
      ]
    },
    {
      "cell_type": "markdown",
      "source": [
        "missing value들은 해당 열의 평균 값으로도 대체될 수 있다.\n",
        "(누락된 변수 대입하기)\n"
      ],
      "metadata": {
        "id": "uQL_DvAv6Fzq"
      }
    },
    {
      "cell_type": "code",
      "source": [
        "inputs = inputs.fillna(inputs.mean())\n",
        "print(inputs)"
      ],
      "metadata": {
        "colab": {
          "base_uri": "https://localhost:8080/"
        },
        "id": "PBmtNsHj6NiG",
        "outputId": "f8c29a3c-03e5-4ad1-80e0-f85fa44511f0"
      },
      "execution_count": 16,
      "outputs": [
        {
          "output_type": "stream",
          "name": "stdout",
          "text": [
            "    NumRooms_  2   NumRooms_  4   NumRooms_  NAN   NumRooms_nan  \\\n",
            "0          False          False             True          False   \n",
            "1           True          False            False          False   \n",
            "2          False           True            False          False   \n",
            "3          False          False             True          False   \n",
            "\n",
            "    RoofType_ NAN   RoofType_ Slate   RoofType_nan  \n",
            "0            True             False          False  \n",
            "1            True             False          False  \n",
            "2           False              True          False  \n",
            "3            True             False          False  \n"
          ]
        }
      ]
    },
    {
      "cell_type": "markdown",
      "source": [
        "2.2.3 Conversion to the Tensor Format\n",
        "\n",
        "\n",
        "---\n",
        "위 과정을 똑바로 헀다면, input과 target 도 숫자형태이므로, tensor 형태로 가져올 수 있다.\n"
      ],
      "metadata": {
        "id": "ACH01Hba8IRm"
      }
    },
    {
      "cell_type": "code",
      "source": [
        "import torch\n",
        "\n",
        "X = torch.tensor(inputs.to_numpy(dtype=float))\n",
        "y = torch.tensor(targets,to_numpy(dtype=float))\n",
        "X, y"
      ],
      "metadata": {
        "colab": {
          "base_uri": "https://localhost:8080/",
          "height": 205
        },
        "id": "gHv9z_5m8Z5p",
        "outputId": "819d5633-6121-49e4-ae54-abbc152f0860"
      },
      "execution_count": 18,
      "outputs": [
        {
          "output_type": "error",
          "ename": "NameError",
          "evalue": "name 'to_numpy' is not defined",
          "traceback": [
            "\u001b[0;31m---------------------------------------------------------------------------\u001b[0m",
            "\u001b[0;31mNameError\u001b[0m                                 Traceback (most recent call last)",
            "\u001b[0;32m<ipython-input-18-e745c527143b>\u001b[0m in \u001b[0;36m<cell line: 4>\u001b[0;34m()\u001b[0m\n\u001b[1;32m      2\u001b[0m \u001b[0;34m\u001b[0m\u001b[0m\n\u001b[1;32m      3\u001b[0m \u001b[0mX\u001b[0m \u001b[0;34m=\u001b[0m \u001b[0mtorch\u001b[0m\u001b[0;34m.\u001b[0m\u001b[0mtensor\u001b[0m\u001b[0;34m(\u001b[0m\u001b[0minputs\u001b[0m\u001b[0;34m.\u001b[0m\u001b[0mto_numpy\u001b[0m\u001b[0;34m(\u001b[0m\u001b[0mdtype\u001b[0m\u001b[0;34m=\u001b[0m\u001b[0mfloat\u001b[0m\u001b[0;34m)\u001b[0m\u001b[0;34m)\u001b[0m\u001b[0;34m\u001b[0m\u001b[0;34m\u001b[0m\u001b[0m\n\u001b[0;32m----> 4\u001b[0;31m \u001b[0my\u001b[0m \u001b[0;34m=\u001b[0m \u001b[0mtorch\u001b[0m\u001b[0;34m.\u001b[0m\u001b[0mtensor\u001b[0m\u001b[0;34m(\u001b[0m\u001b[0mtargets\u001b[0m\u001b[0;34m,\u001b[0m\u001b[0mto_numpy\u001b[0m\u001b[0;34m(\u001b[0m\u001b[0mdtype\u001b[0m\u001b[0;34m=\u001b[0m\u001b[0mfloat\u001b[0m\u001b[0;34m)\u001b[0m\u001b[0;34m)\u001b[0m\u001b[0;34m\u001b[0m\u001b[0;34m\u001b[0m\u001b[0m\n\u001b[0m\u001b[1;32m      5\u001b[0m \u001b[0mX\u001b[0m\u001b[0;34m,\u001b[0m \u001b[0my\u001b[0m\u001b[0;34m\u001b[0m\u001b[0;34m\u001b[0m\u001b[0m\n",
            "\u001b[0;31mNameError\u001b[0m: name 'to_numpy' is not defined"
          ]
        }
      ]
    },
    {
      "cell_type": "markdown",
      "source": [
        "근데 나는 위 과정이 이상했던 것 같다. 잘 안 돌아간다....\n"
      ],
      "metadata": {
        "id": "sBXQoSat8svc"
      }
    }
  ]
}