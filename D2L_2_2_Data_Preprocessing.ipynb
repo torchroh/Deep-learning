{
  "nbformat": 4,
  "nbformat_minor": 0,
  "metadata": {
    "colab": {
      "provenance": [],
      "authorship_tag": "ABX9TyMHb+K7EiI2DxWODtP95Saf",
      "include_colab_link": true
    },
    "kernelspec": {
      "name": "python3",
      "display_name": "Python 3"
    },
    "language_info": {
      "name": "python"
    }
  },
  "cells": [
    {
      "cell_type": "markdown",
      "metadata": {
        "id": "view-in-github",
        "colab_type": "text"
      },
      "source": [
        "<a href=\"https://colab.research.google.com/github/torchroh/Deep-learning/blob/main/D2L_2_2_Data_Preprocessing.ipynb\" target=\"_parent\"><img src=\"https://colab.research.google.com/assets/colab-badge.svg\" alt=\"Open In Colab\"/></a>"
      ]
    },
    {
      "cell_type": "markdown",
      "source": [
        "# 2.2 Data Preprocessing"
      ],
      "metadata": {
        "id": "NAafu7vKzECs"
      }
    },
    {
      "cell_type": "markdown",
      "source": [
        "# 2.2.1 Reading the Dataset"
      ],
      "metadata": {
        "id": "q_Tr_0N1y8a3"
      }
    },
    {
      "cell_type": "markdown",
      "source": [
        "\n",
        "\n",
        "---\n",
        "\n",
        "\n",
        "\n",
        "csv파일 만들고 데이터 읽기"
      ],
      "metadata": {
        "id": "K-T_hi7u1e19"
      }
    },
    {
      "cell_type": "code",
      "execution_count": 3,
      "metadata": {
        "id": "uaioaT2_HC_4"
      },
      "outputs": [],
      "source": [
        "import os\n",
        "\n",
        "os.makedirs(os.path.join('..', 'data'), exist_ok=True)\n",
        "data_file = os.path.join('..', 'data', 'house_tiny.csv')\n",
        "with open(data_file, 'w') as f:\n",
        "  f.write('''NumRooms,RoofType,Price\n",
        "NA,NA,127500\n",
        "2,NA,106000\n",
        "4,Slate,178100\n",
        "NA,NA,140000''')"
      ]
    },
    {
      "cell_type": "code",
      "source": [
        "import pandas as pd\n",
        "\n",
        "data = pd.read_csv(data_file)\n",
        "print(data)"
      ],
      "metadata": {
        "colab": {
          "base_uri": "https://localhost:8080/"
        },
        "id": "k4LGXgF71GXJ",
        "outputId": "c3586031-ec80-4dea-c28f-8fbf13b20215"
      },
      "execution_count": 4,
      "outputs": [
        {
          "output_type": "stream",
          "name": "stdout",
          "text": [
            "   NumRooms RoofType   Price\n",
            "0       NaN      NaN  127500\n",
            "1       2.0      NaN  106000\n",
            "2       4.0    Slate  178100\n",
            "3       NaN      NaN  140000\n"
          ]
        }
      ]
    },
    {
      "cell_type": "markdown",
      "source": [
        "#2.2.2 Data Preparation (데이터 열 분할)"
      ],
      "metadata": {
        "id": "_q_G2JM0zOqw"
      }
    },
    {
      "cell_type": "markdown",
      "source": [
        "\n",
        "\n",
        "---\n",
        "\n",
        "\n",
        "input versus와 target versus로 구분하기\n",
        "--> iloc 사용, indexing\n"
      ],
      "metadata": {
        "id": "7A5SyYJc1eQd"
      }
    },
    {
      "cell_type": "code",
      "source": [
        "inputs, targets = data.iloc[:, 0:2], data.iloc[:, 2]\n",
        "print(inputs)"
      ],
      "metadata": {
        "colab": {
          "base_uri": "https://localhost:8080/"
        },
        "id": "1LhiEAEm4PDo",
        "outputId": "52bcacfb-7a57-491d-8542-dee1f7717f46",
        "collapsed": true
      },
      "execution_count": 6,
      "outputs": [
        {
          "output_type": "stream",
          "name": "stdout",
          "text": [
            "   NumRooms RoofType\n",
            "0       NaN      NaN\n",
            "1       2.0      NaN\n",
            "2       4.0    Slate\n",
            "3       NaN      NaN\n"
          ]
        }
      ]
    },
    {
      "cell_type": "markdown",
      "source": [
        "pandas는 숫자가 아닌 값을 NaN로 대체함.\n",
        "--> missing values. 이러한 값들은 대체되거나 삭제될 수 있음.\n",
        "\n",
        "RoofType를 Slate와 NaN 두가지로 나눠서 True/False로 표현.\n",
        "\n",
        "**띄어쓰기를 한번이라도 하면 string으로 인식이 되기 때문에, 숫자로 쓰기 위해서는 여백없이 써야함!\n",
        "\n"
      ],
      "metadata": {
        "id": "n_yw2-Pl5nVg"
      }
    },
    {
      "cell_type": "code",
      "source": [
        "inputs = pd.get_dummies(inputs, dummy_na=True) #pd.get_dummies는 숫자가 아닌 글에만 적용됨.\n",
        "print(inputs)"
      ],
      "metadata": {
        "colab": {
          "base_uri": "https://localhost:8080/"
        },
        "id": "D2v6-PeL5gvo",
        "outputId": "ff87b8e7-661d-4361-b59e-e1c2bbdb9783"
      },
      "execution_count": 7,
      "outputs": [
        {
          "output_type": "stream",
          "name": "stdout",
          "text": [
            "   NumRooms  RoofType_Slate  RoofType_nan\n",
            "0       NaN           False          True\n",
            "1       2.0           False          True\n",
            "2       4.0            True         False\n",
            "3       NaN           False          True\n"
          ]
        }
      ]
    },
    {
      "cell_type": "markdown",
      "source": [
        "missing value들은 해당 열의 평균 값으로도 대체될 수 있다.\n",
        "(누락된 변수 대입하기)\n"
      ],
      "metadata": {
        "id": "uQL_DvAv6Fzq"
      }
    },
    {
      "cell_type": "code",
      "source": [
        "inputs = inputs.fillna(inputs.mean())\n",
        "print(inputs)"
      ],
      "metadata": {
        "colab": {
          "base_uri": "https://localhost:8080/"
        },
        "id": "PBmtNsHj6NiG",
        "outputId": "e0470e96-d453-4e25-edf2-41cff70e851a"
      },
      "execution_count": 8,
      "outputs": [
        {
          "output_type": "stream",
          "name": "stdout",
          "text": [
            "   NumRooms  RoofType_Slate  RoofType_nan\n",
            "0       3.0           False          True\n",
            "1       2.0           False          True\n",
            "2       4.0            True         False\n",
            "3       3.0           False          True\n"
          ]
        }
      ]
    },
    {
      "cell_type": "markdown",
      "source": [
        "# 2.2.3 Conversion to the Tensor Format"
      ],
      "metadata": {
        "id": "7rvH6cPtzTcB"
      }
    },
    {
      "cell_type": "markdown",
      "source": [
        "\n",
        "\n",
        "\n",
        "---\n",
        "위 과정을 똑바로 헀다면, input과 target 도 숫자형태이므로, tensor 형태로 가져올 수 있다.\n"
      ],
      "metadata": {
        "id": "ACH01Hba8IRm"
      }
    },
    {
      "cell_type": "code",
      "source": [
        "import torch\n",
        "\n",
        "X = torch.tensor(inputs.to_numpy(dtype=float))\n",
        "y = torch.tensor(targets.to_numpy(dtype=float))\n",
        "X, y"
      ],
      "metadata": {
        "colab": {
          "base_uri": "https://localhost:8080/"
        },
        "id": "gHv9z_5m8Z5p",
        "outputId": "962a9ce8-78b9-4457-a139-222f068359c6"
      },
      "execution_count": 10,
      "outputs": [
        {
          "output_type": "execute_result",
          "data": {
            "text/plain": [
              "(tensor([[3., 0., 1.],\n",
              "         [2., 0., 1.],\n",
              "         [4., 1., 0.],\n",
              "         [3., 0., 1.]], dtype=torch.float64),\n",
              " tensor([127500., 106000., 178100., 140000.], dtype=torch.float64))"
            ]
          },
          "metadata": {},
          "execution_count": 10
        }
      ]
    }
  ]
}